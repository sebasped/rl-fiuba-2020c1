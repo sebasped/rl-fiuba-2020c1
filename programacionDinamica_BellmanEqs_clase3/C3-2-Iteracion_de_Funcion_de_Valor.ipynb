{
 "cells": [
  {
   "cell_type": "markdown",
   "metadata": {},
   "source": [
    "# Ecuaciones de optimalidad de Bellman\n",
    "\n",
    "<img src=\"bellman1.png\">\n",
    "<img src=\"bellman2.png\">"
   ]
  },
  {
   "cell_type": "markdown",
   "metadata": {
    "colab_type": "text",
    "id": "t6jaGT_SJlgc"
   },
   "source": [
    "# Iteración de función de valor:(del libro de Sutton)\n",
    "\n",
    "<img src=\"iteracion de funcion de valor.png\">\n",
    "\n",
    "Vamos a usar la ecuación de optimalidad para encontrar de manera iterativa la política óptima."
   ]
  },
  {
   "cell_type": "code",
   "execution_count": 1,
   "metadata": {
    "colab": {},
    "colab_type": "code",
    "id": "vyylMYA_Jlgh"
   },
   "outputs": [],
   "source": [
    "# en caso de correrlo en google colab\n",
    "# de esta manera podremos tener la carpeta lib (donde se encuentra en ambiente Gridworld)\n",
    "\n",
    "# import sys\n",
    "#if \"../\" not in sys.path:\n",
    "#  sys.path.append(\"../\") \n",
    "\n",
    "# !git clone https://github.com/julianfm7/cursoRL-FIUBA\n",
    "\n",
    "# necesario en google colab para que sys.path busque\n",
    "# y encuentre la carpeta lib donde se encuentra el ambiente Gridworld\n",
    "\n",
    "# !mv cursoRL-FIUBA cursoRLFIUBA\n",
    "\n",
    "import numpy as np\n",
    "import pprint\n",
    "\n",
    "from lib.envs.gridworld import GridworldEnv"
   ]
  },
  {
   "cell_type": "code",
   "execution_count": 2,
   "metadata": {
    "colab": {},
    "colab_type": "code",
    "id": "FOdPSDf1Jlg2"
   },
   "outputs": [],
   "source": [
    "pp = pprint.PrettyPrinter(indent=2)\n",
    "env = GridworldEnv()"
   ]
  },
  {
   "cell_type": "code",
   "execution_count": 10,
   "metadata": {
    "colab": {},
    "colab_type": "code",
    "id": "dWylYQJsJlhI"
   },
   "outputs": [],
   "source": [
    "def value_iteration(env, theta=0.0001, discount_factor=1.0):\n",
    "    \"\"\"\n",
    "    Algoritmo de iteración de la función de valor\n",
    "    \n",
    "    Argumentos:\n",
    "        env: ambiente de OpenAI. env.P representa la transición de probabilidades del ambiente.\n",
    "            env.P[s][a] es una lista de tuplas de transición (prob, next_state, reward, done).\n",
    "            env.nS es el número de estados del ambiente.\n",
    "            env.nA es el número de acciones del ambiente.\n",
    "        theta: Paramos de evaluar una vez que la función de valor cambia menos que theta para todos los estados.\n",
    "        discount_factor: factor de descuento gama.\n",
    "        \n",
    "    Retorna:\n",
    "        Una tupla (policy, V) de política óptima y función de valor óptima.\n",
    "    \"\"\"\n",
    "    \n",
    "    def espectationActions_givenState(estado,V):\n",
    "        lista = np.zeros(env.nA)\n",
    "        # calcular el valor esperado de cada acción utilizando la función de valor actual y haciendo 'one-step look-ahead'\n",
    "        for accion in env.P[estado]:\n",
    "            vact=0\n",
    "            for probabilidad, proximo_estado, recompensa, _ in env.P[estado][accion]:\n",
    "                vact += probabilidad*(recompensa + discount_factor*V[proximo_estado])\n",
    "            lista[accion]=vact\n",
    "        return lista\n",
    "\n",
    "    \n",
    "    Vop = np.zeros(env.nS)\n",
    "    # primero calcular la funcion valor hasta que el cambio maximo de V sea menor a theta\n",
    "    while True:\n",
    "        # por cada estado s\n",
    "        delta = 0\n",
    "        for estado in range(env.nS):\n",
    "            \n",
    "            # elegir la accion con mayor retorno\n",
    "            v_op = max(espectationActions_givenState(estado,Vop))\n",
    "\n",
    "            delta = max(delta,abs(v_op-Vop[estado]))\n",
    "            Vop[estado] = v_op\n",
    "        if delta < theta:\n",
    "            break\n",
    "\n",
    "          # mantener una variable (delta) que indica el cambio maximo en V(s) para todos los estados\n",
    "          # hacer update de V(s) = maximo retorno esperado (mejor accion)\n",
    "        # si delta < theta: parar\n",
    "    \n",
    "    \n",
    "    policy = np.zeros([env.nS, env.nA])\n",
    "    # ahora calcular la política óptima:\n",
    "    # por cada estado s\n",
    "    for estado in range(env.nS):\n",
    "            \n",
    "            # encontrar la acción con mayor retorno esperado a_max\n",
    "            a_op = np.argmax(espectationActions_givenState(estado,Vop))\n",
    "\n",
    "            # la política debe realizar esta acción a_max en el estado s con probabilidad 1.0\n",
    "            policy[estado] = [0]*env.nA\n",
    "            policy[estado,a_op] = 1.0\n",
    "    \n",
    "    \n",
    "    return policy, Vop"
   ]
  },
  {
   "cell_type": "code",
   "execution_count": 11,
   "metadata": {
    "colab": {},
    "colab_type": "code",
    "id": "O3hg1-PeJlhc"
   },
   "outputs": [
    {
     "name": "stdout",
     "output_type": "stream",
     "text": [
      "Distribución de probabilidad de la política:\n",
      "[[1. 0. 0. 0.]\n",
      " [0. 0. 0. 1.]\n",
      " [0. 0. 0. 1.]\n",
      " [0. 0. 1. 0.]\n",
      " [1. 0. 0. 0.]\n",
      " [1. 0. 0. 0.]\n",
      " [1. 0. 0. 0.]\n",
      " [0. 0. 1. 0.]\n",
      " [1. 0. 0. 0.]\n",
      " [1. 0. 0. 0.]\n",
      " [0. 1. 0. 0.]\n",
      " [0. 0. 1. 0.]\n",
      " [1. 0. 0. 0.]\n",
      " [0. 1. 0. 0.]\n",
      " [0. 1. 0. 0.]\n",
      " [1. 0. 0. 0.]]\n",
      "\n",
      "Política mostrada en la grilla: (0=arriba, 1=derecha, 2=abajo, 3=izquierda)\n",
      "[[0 3 3 2]\n",
      " [0 0 0 2]\n",
      " [0 0 1 2]\n",
      " [0 1 1 0]]\n",
      "\n",
      "Función de valor:\n",
      "[ 0. -1. -2. -3. -1. -2. -3. -2. -2. -3. -2. -1. -3. -2. -1.  0.]\n",
      "\n",
      "Función de valor exhibida en la grilla:\n",
      "[[ 0. -1. -2. -3.]\n",
      " [-1. -2. -3. -2.]\n",
      " [-2. -3. -2. -1.]\n",
      " [-3. -2. -1.  0.]]\n",
      "\n"
     ]
    }
   ],
   "source": [
    "policy, v = value_iteration(env)\n",
    "\n",
    "print(\"Distribución de probabilidad de la política:\")\n",
    "print(policy)\n",
    "print(\"\")\n",
    "\n",
    "print(\"Política mostrada en la grilla: (0=arriba, 1=derecha, 2=abajo, 3=izquierda)\")\n",
    "print(np.reshape(np.argmax(policy, axis=1), env.shape))\n",
    "print(\"\")\n",
    "\n",
    "print(\"Función de valor:\")\n",
    "print(v)\n",
    "print(\"\")\n",
    "\n",
    "print(\"Función de valor exhibida en la grilla:\")\n",
    "print(v.reshape(env.shape))\n",
    "print(\"\")"
   ]
  },
  {
   "cell_type": "code",
   "execution_count": 12,
   "metadata": {
    "colab": {},
    "colab_type": "code",
    "id": "RpudCw38Jlhp"
   },
   "outputs": [],
   "source": [
    "# Testear la función de valor\n",
    "expected_v = np.array([ 0, -1, -2, -3, -1, -2, -3, -2, -2, -3, -2, -1, -3, -2, -1,  0])\n",
    "np.testing.assert_array_almost_equal(v, expected_v, decimal=2)"
   ]
  }
 ],
 "metadata": {
  "colab": {
   "name": "Iteracion de Funcion de Valor.ipynb",
   "provenance": []
  },
  "kernelspec": {
   "display_name": "Python 3",
   "language": "python",
   "name": "python3"
  },
  "language_info": {
   "codemirror_mode": {
    "name": "ipython",
    "version": 3
   },
   "file_extension": ".py",
   "mimetype": "text/x-python",
   "name": "python",
   "nbconvert_exporter": "python",
   "pygments_lexer": "ipython3",
   "version": "3.7.7"
  }
 },
 "nbformat": 4,
 "nbformat_minor": 1
}
