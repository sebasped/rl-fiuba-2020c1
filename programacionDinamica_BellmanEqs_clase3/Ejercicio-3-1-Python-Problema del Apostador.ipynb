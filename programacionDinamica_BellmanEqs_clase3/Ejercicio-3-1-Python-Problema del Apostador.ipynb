{
 "cells": [
  {
   "cell_type": "markdown",
   "metadata": {
    "collapsed": true
   },
   "source": [
    "### Este es el ejemplo 4.3. Problema del Apostador (Gambler’s Problem) del libro de Sutton. \n",
    "\n",
    "Un apostador tiene la oportunidad de hacer apuestas a los resultados de una secuencia de tiros de una moneda. \n",
    "Si la moneda cae cara, gana tantos dólares como apostó en esa tirada.\n",
    "Si la moneda cae ceca, pierde lo apostado. El juego termina cuando un apostador gana alcanzando su objetivo de $100, o pierde quedándose sin dinero.\n",
    "\n",
    "En cada tirada el apostador debe decidir qué porción de su capital quiere apostar, una cantidad entera de dólares.\n",
    "El problema puede ser formulado como un MDP finito sin descuento, episódico.\n",
    "\n",
    "Los estados posibles del capital del apostador son: s ∈ {1, 2, . . . , 99}.\n",
    "\n",
    "La acciones son apuestas,  a ∈ {0, 1, . . . , min(s, 100 − s)}. \n",
    "\n",
    "La recompensa es cero en todas las transiciones excepto en aquellas en que el apostador alcanza su objetivo, en que la recompensa es +1.\n",
    "\n",
    "La función de estado-valor da la probabilidad de ganar desde cada estado. Una política es una función de niveles de capital a apuestas. La política óptima maximiza la probabilidad de obtener el objetivo. Llamemos p_h la probabilidad de que una moneda salga cara. Si p_h es conocida, entonces el problema se puede resolver, por ejemplo, con iteración de valor."
   ]
  },
  {
   "cell_type": "code",
   "execution_count": 2,
   "metadata": {},
   "outputs": [],
   "source": [
    "import numpy as np\n",
    "# import sys\n",
    "import matplotlib.pyplot as plt\n",
    "# if \"../\" not in sys.path:\n",
    "#   sys.path.append(\"../\") "
   ]
  },
  {
   "cell_type": "markdown",
   "metadata": {
    "collapsed": true
   },
   "source": [
    "\n",
    "### Exercise\n",
    "\n",
    "Implementar iteración de valor para el problema del apostador y resolverlo para p_h = 0.25 y p_h = 0.55.\n"
   ]
  },
  {
   "cell_type": "code",
   "execution_count": 88,
   "metadata": {},
   "outputs": [],
   "source": [
    "def value_iteration_for_gamblers(p_h, theta=1e-10, discount_factor=1.0):\n",
    "    \"\"\"\n",
    "    Args:\n",
    "        p_h: Probabilidad de que una moneda caiga cara\n",
    "    \"\"\"\n",
    "    rewards = np.zeros(101) # estados del 0 al 100\n",
    "    rewards[100] = 1 # reward de s=100 es 1\n",
    "    \n",
    "#     def one_step_lookahead(s, V, rewards):\n",
    "    \"\"\"\n",
    "    Función auxiliar que calcula el valor de todas las acciones dado un estado.\n",
    "\n",
    "    Args:\n",
    "        s: El capital del apostador. Entero.\n",
    "        V: El vector que contiene los valores en cada estado.\n",
    "        rewards: El vector recompensa.\n",
    "\n",
    "    Returns:\n",
    "        Un vector que contiene el valor esperado de cada acción.\n",
    "        Su longitud es igual a la cantidad de acciones.\n",
    "    \"\"\"\n",
    "    \n",
    "    def espectationActions_givenState(estado,V):\n",
    "        #puede apostar máximo su capital, pero sin pasar de 100 si gana.\n",
    "        #hago que no pueda apostar cero\n",
    "        acciones = list( range(1,min(estado,100-estado)+1) )\n",
    "        lista = np.zeros(len(acciones)+1)\n",
    "        # calcular el valor esperado de cada acción utilizando la función de valor actual y haciendo 'one-step look-ahead'\n",
    "        for accion in acciones: #la acción es lo que apuesta de capital, y el estado es el capital actual\n",
    "            vact = p_h*(rewards[estado+accion]+V[estado+accion]) #caso ganó\n",
    "            vact += (1-p_h)*(rewards[estado-accion]+V[estado-accion]) #caso perdió\n",
    "            lista[accion]=vact\n",
    "        return lista\n",
    "    \n",
    "    Vop = np.zeros(101)\n",
    "    # primero calcular la funcion valor hasta que el cambio maximo de V sea menor a theta\n",
    "    while True:\n",
    "        # por cada estado s\n",
    "        delta = 0\n",
    "        for estado in range(1,100):\n",
    "            \n",
    "            # elegir el mayor retorno esperado dentro de todas las acciones\n",
    "            v_op = max(espectationActions_givenState(estado,Vop))\n",
    "\n",
    "            delta = max(delta,abs(v_op-Vop[estado]))\n",
    "            Vop[estado] = v_op\n",
    "        if delta < theta:\n",
    "            break\n",
    "\n",
    "    policy = np.zeros(101)\n",
    "    for estado in range(1,100):\n",
    "\n",
    "        # encontrar la acción con mayor retorno esperado a_max\n",
    "        # el redondeo es porque en realidad hay muchas acciones con el mismo retorno esperado, pero por un \n",
    "        # tema numérico parecen con retornos distintos. Entonces redondeo para que efectivamente sean todos esos retornos\n",
    "        # iguale, y luego, por tomar alguna decisión, me quedo con la acción de menor apuesta (pues el np.argmax elige\n",
    "        # el primer índice dentro de todos los que cumplen el máximo)\n",
    "        a_op = np.argmax(np.round(espectationActions_givenState(estado,Vop),6))\n",
    "#         a_op = np.argmax(espectationActions_givenState(estado,Vop,rewards))\n",
    "        # a_max no es único. De ser posible investigar un poco eso.\n",
    "        \n",
    "        # la política debe realizar esta acción a_max en el estado s con probabilidad 1.0\n",
    "        policy[estado] = a_op # pongo directamente la acción en vez de con prob 1\n",
    "#         policy[estado][a_op] = 1.0\n",
    "\n",
    "    \n",
    "    return policy, Vop"
   ]
  },
  {
   "cell_type": "code",
   "execution_count": 89,
   "metadata": {},
   "outputs": [
    {
     "name": "stdout",
     "output_type": "stream",
     "text": [
      "Política optimizada:\n",
      "[ 0.  1.  2.  3.  4.  5.  6.  7.  8.  9. 10. 11. 12. 12. 11. 10.  9.  8.\n",
      "  7.  6.  5.  4.  3.  2.  1. 25.  1.  2.  3.  4.  5.  6.  7.  8.  9. 10.\n",
      " 11. 12. 12. 11. 10.  9.  8.  7.  6.  5.  4.  3.  2.  1. 50.  1.  2.  3.\n",
      "  4.  5.  6.  7.  8.  9. 10. 11. 12. 12. 11. 10.  9.  8.  7.  6.  5.  4.\n",
      "  3.  2.  1. 25.  1.  2.  3.  4.  5.  6.  7.  8.  9. 10. 11. 12. 12. 11.\n",
      " 10.  9.  8.  7.  6.  5.  4.  3.  2.  1.  0.]\n",
      "\n",
      "Función de valor óptima:\n",
      "[0.00000000e+00 7.28611644e-05 2.91444671e-04 6.95264570e-04\n",
      " 1.16577869e-03 1.77125506e-03 2.78105828e-03 4.03661210e-03\n",
      " 4.66311477e-03 5.60141644e-03 7.08502024e-03 9.04088770e-03\n",
      " 1.11242331e-02 1.56796459e-02 1.61464484e-02 1.69534413e-02\n",
      " 1.86524591e-02 1.98260623e-02 2.24056658e-02 2.73847344e-02\n",
      " 2.83400810e-02 3.04945467e-02 3.61635508e-02 3.84959101e-02\n",
      " 4.44969325e-02 6.25000000e-02 6.27185835e-02 6.33743340e-02\n",
      " 6.45857937e-02 6.59973361e-02 6.78137652e-02 7.08431749e-02\n",
      " 7.46098363e-02 7.64893443e-02 7.93042493e-02 8.37550607e-02\n",
      " 8.96226631e-02 9.58726994e-02 1.09538938e-01 1.10939345e-01\n",
      " 1.13360324e-01 1.18457377e-01 1.21978187e-01 1.29716997e-01\n",
      " 1.44654203e-01 1.47520243e-01 1.53983640e-01 1.70990652e-01\n",
      " 1.77987730e-01 1.95990798e-01 2.50000000e-01 2.50218584e-01\n",
      " 2.50874334e-01 2.52085794e-01 2.53497336e-01 2.55313765e-01\n",
      " 2.58343175e-01 2.62109836e-01 2.63989344e-01 2.66804249e-01\n",
      " 2.71255061e-01 2.77122663e-01 2.83372699e-01 2.97038938e-01\n",
      " 2.98439345e-01 3.00860324e-01 3.05957377e-01 3.09478187e-01\n",
      " 3.17216997e-01 3.32154203e-01 3.35020243e-01 3.41483640e-01\n",
      " 3.58490652e-01 3.65487730e-01 3.83490798e-01 4.37500000e-01\n",
      " 4.38155751e-01 4.40123002e-01 4.43757381e-01 4.47992008e-01\n",
      " 4.53441296e-01 4.62529525e-01 4.73829509e-01 4.79468033e-01\n",
      " 4.87912748e-01 5.01265182e-01 5.18867989e-01 5.37618098e-01\n",
      " 5.78616813e-01 5.82818036e-01 5.90080972e-01 6.05372132e-01\n",
      " 6.15934561e-01 6.39150992e-01 6.83962610e-01 6.92560729e-01\n",
      " 7.11950921e-01 7.62971957e-01 7.83963191e-01 8.37972393e-01\n",
      " 0.00000000e+00]\n",
      "\n"
     ]
    }
   ],
   "source": [
    "policy, v = value_iteration_for_gamblers(0.25)\n",
    "\n",
    "print(\"Política optimizada:\")\n",
    "print(policy)\n",
    "print(\"\")\n",
    "\n",
    "print(\"Función de valor óptima:\")\n",
    "print(v)\n",
    "print(\"\")"
   ]
  },
  {
   "cell_type": "code",
   "execution_count": 90,
   "metadata": {},
   "outputs": [
    {
     "data": {
      "text/plain": [
       "[<matplotlib.lines.Line2D at 0x7f6e028767d0>]"
      ]
     },
     "execution_count": 90,
     "metadata": {},
     "output_type": "execute_result"
    },
    {
     "data": {
      "image/png": "[encoded data removed]",
      "text/plain": [
       "<Figure size 432x288 with 1 Axes>"
      ]
     },
     "metadata": {
      "needs_background": "light"
     },
     "output_type": "display_data"
    }
   ],
   "source": [
    "# Plotear la política final (apuesta) vs estado (capital)\n",
    "\n",
    "# estados vs. V\n",
    "plt.plot(v[1:100])"
   ]
  },
  {
   "cell_type": "code",
   "execution_count": 91,
   "metadata": {},
   "outputs": [
    {
     "data": {
      "text/plain": [
       "[<matplotlib.lines.Line2D at 0x7f6e027da450>]"
      ]
     },
     "execution_count": 91,
     "metadata": {},
     "output_type": "execute_result"
    },
    {
     "data": {
      "image/png": "[encoded data removed]",
      "text/plain": [
       "<Figure size 432x288 with 1 Axes>"
      ]
     },
     "metadata": {
      "needs_background": "light"
     },
     "output_type": "display_data"
    }
   ],
   "source": [
    "# Plotear capital vs política final\n",
    "\n",
    "# Implementar!\n",
    "plt.plot(policy,'*')"
   ]
  }
 ],
 "metadata": {
  "kernelspec": {
   "display_name": "Python 3",
   "language": "python",
   "name": "python3"
  },
  "language_info": {
   "codemirror_mode": {
    "name": "ipython",
    "version": 3
   },
   "file_extension": ".py",
   "mimetype": "text/x-python",
   "name": "python",
   "nbconvert_exporter": "python",
   "pygments_lexer": "ipython3",
   "version": "3.7.7"
  }
 },
 "nbformat": 4,
 "nbformat_minor": 1
}
