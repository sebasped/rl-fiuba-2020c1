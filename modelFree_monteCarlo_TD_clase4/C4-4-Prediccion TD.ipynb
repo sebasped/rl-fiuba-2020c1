{
 "cells": [
  {
   "cell_type": "markdown",
   "metadata": {},
   "source": [
    "## El objetivo de este ejercicio es calcular la función de valor de una política dada usando Diferencias Temporales.\n",
    "<img src=\"Prediccion_TD.PNG\">"
   ]
  },
  {
   "cell_type": "code",
   "execution_count": 26,
   "metadata": {},
   "outputs": [],
   "source": [
    "%matplotlib inline\n",
    "\n",
    "import gym\n",
    "# import matplotlib\n",
    "import numpy as np\n",
    "\n",
    "from collections import defaultdict\n",
    "# import itertools\n",
    "\n",
    "# en caso de correrlo en google colab\n",
    "# de esta manera podremos tener la carpeta lib (donde se encuentra en ambiente Gridworld)\n",
    "\n",
    "# import sys\n",
    "#if \"../\" not in sys.path:\n",
    "#  sys.path.append(\"../\") \n",
    "\n",
    "# !git clone https://github.com/julianfm7/cursoRL-FIUBA\n",
    "\n",
    "# necesario en google colab para que sys.path busque\n",
    "# y encuentre la carpeta lib donde se encuentra el ambiente Gridworld\n",
    "\n",
    "# !mv cursoRL-FIUBA cursoRLFIUBA\n",
    "\n",
    "# import numpy as np\n",
    "# from lib.envs.blackjack import BlackjackEnv\n",
    "from lib.envs.gridworld import GridworldEnv\n",
    "from lib import plotting\n",
    "\n",
    "# matplotlib.style.use('ggplot')\n",
    "\n",
    "from tqdm import tqdm"
   ]
  },
  {
   "cell_type": "code",
   "execution_count": 3,
   "metadata": {},
   "outputs": [],
   "source": [
    "env = GridworldEnv()\n",
    "# env = BlackjackEnv()"
   ]
  },
  {
   "cell_type": "code",
   "execution_count": 4,
   "metadata": {},
   "outputs": [],
   "source": [
    "def td_prediction(policy, env, num_episodes, discount_factor=1.0, alpha=0.01):\n",
    "    \"\"\"\n",
    "    Algoritmo de predicción por diferencias temporales.\n",
    "    Calcula la función de valor dada una política utilizando diferencias temporales para los updates.\n",
    "    \n",
    "    Argumentos:\n",
    "        policy: Una función que dada una observación toma una acción\n",
    "        env: ambiente de OpenAI gym.\n",
    "        num_episodes: número de episodios para samplear en total.\n",
    "        discount_factor: factor de descuento gama.\n",
    "    \n",
    "    Returns:\n",
    "    Retorna:\n",
    "        Un diccionario que mapea de estado -> valor\n",
    "    \"\"\"\n",
    "    # la función de valor final\n",
    "    V = defaultdict(float)\n",
    "    \n",
    "    # por cada episodio desde 1 hasta el número de episodios\n",
    "    for _ in tqdm(range(num_episodes)):\n",
    "        # hacer print del número de episodio si es múltiplo de 1000 para observar el avance\n",
    "        \n",
    "        # resetear el ambiente, obtener el primer estado\n",
    "        observation = env.reset()\n",
    "        done = False\n",
    "        # mientras no lleguemos estado terminal\n",
    "        while not done:\n",
    "            # obtener la próxima acción según la política\n",
    "            accion = policy(observation)\n",
    "            # tomar la acción en el ambiente\n",
    "            observacion_nueva, reward, done, _ = env.step(accion)\n",
    "            # actualizar V según la fórmula de diferencias temporales\n",
    "            V[(observation)] += alpha*(reward + discount_factor*V[(observacion_nueva)] - V[(observation)])\n",
    "            # pasar al próximo estado\n",
    "            observation = observacion_nueva\n",
    "            \n",
    "    # devolver la función de valor\n",
    "    return V    "
   ]
  },
  {
   "cell_type": "code",
   "execution_count": 5,
   "metadata": {},
   "outputs": [],
   "source": [
    "def sample_policy(observation):\n",
    "    \"\"\"\n",
    "    Política aleatoria\n",
    "    \"\"\"\n",
    "    return np.random.choice(4)"
   ]
  },
  {
   "cell_type": "code",
   "execution_count": 6,
   "metadata": {},
   "outputs": [
    {
     "name": "stderr",
     "output_type": "stream",
     "text": [
      "100%|██████████| 500000/500000 [05:09<00:00, 1615.85it/s]\n"
     ]
    }
   ],
   "source": [
    "V = td_prediction(sample_policy, env, num_episodes=500000)\n",
    "# V = td_prediction(sample_policy, env, num_episodes=50000)"
   ]
  },
  {
   "cell_type": "code",
   "execution_count": 28,
   "metadata": {},
   "outputs": [
    {
     "name": "stdout",
     "output_type": "stream",
     "text": [
      "[  0.         -14.12812735 -19.99847639 -21.68445102 -12.37684103\n",
      " -17.89439076 -19.5461144  -19.78000921 -19.27260822 -19.30748438\n",
      " -17.47910186 -13.50079201 -21.33066319 -19.51006199 -11.66938818\n",
      "   0.        ]\n"
     ]
    }
   ],
   "source": [
    "# print(V)\n",
    "Varray = np.zeros(16)\n",
    "for key, value in V.items():\n",
    "    Varray[key]=value\n",
    "print(Varray)"
   ]
  },
  {
   "cell_type": "code",
   "execution_count": 19,
   "metadata": {},
   "outputs": [
    {
     "data": {
      "text/plain": [
       "array([ 0.00000000e+00, -1.28127348e-01,  1.52360796e-03,  3.15548977e-01,\n",
       "        1.62315897e+00,  1.05609240e-01,  4.53885596e-01,  2.19990788e-01,\n",
       "        7.27391782e-01,  6.92515625e-01,  5.20898136e-01,  4.99207990e-01,\n",
       "        6.69336807e-01,  4.89938011e-01,  2.33061182e+00,  0.00000000e+00])"
      ]
     },
     "execution_count": 19,
     "metadata": {},
     "output_type": "execute_result"
    }
   ],
   "source": [
    "# Test de la función de valor\n",
    "expected_v = np.array([0, -14, -20, -22, -14, -18, -20, -20, -20, -20, -18, -14, -22, -20, -14, 0])\n",
    "# np.testing.assert_array_almost_equal(Varray, expected_v, decimal=0)\n",
    "Varray-expected_v"
   ]
  }
 ],
 "metadata": {
  "kernelspec": {
   "display_name": "Python 3",
   "language": "python",
   "name": "python3"
  },
  "language_info": {
   "codemirror_mode": {
    "name": "ipython",
    "version": 3
   },
   "file_extension": ".py",
   "mimetype": "text/x-python",
   "name": "python",
   "nbconvert_exporter": "python",
   "pygments_lexer": "ipython3",
   "version": "3.7.7"
  }
 },
 "nbformat": 4,
 "nbformat_minor": 2
}
